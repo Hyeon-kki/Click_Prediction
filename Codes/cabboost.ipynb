{
 "cells": [
  {
   "cell_type": "code",
   "execution_count": 16,
   "metadata": {},
   "outputs": [],
   "source": [
    "import numpy as np\n",
    "import polars as pl\n",
    "import pandas as pd\n",
    "import matplotlib.pyplot as plt\n",
    "import seaborn as sns\n",
    "import warnings\n",
    "warnings.filterwarnings(\"ignore\")\n",
    "import os\n",
    "import psutil\n",
    "\n",
    "pd.options.display.max_columns=1000\n",
    "pd.options.display.max_rows=1000\n",
    "\n",
    "import lightgbm as lgb\n",
    "import matplotlib.pyplot as plt\n",
    "import seaborn as sns\n",
    "from sklearn.model_selection import train_test_split\n",
    "from sklearn.metrics import roc_auc_score "
   ]
  },
  {
   "cell_type": "markdown",
   "metadata": {},
   "source": [
    "# 전처리"
   ]
  },
  {
   "cell_type": "code",
   "execution_count": 17,
   "metadata": {},
   "outputs": [],
   "source": [
    "path = \"/home/sgh/yes/envs/DACON/dataset/click_ratio/\"\n",
    "train = pl.read_csv(path + \"train.csv\")\n",
    "test = pl.read_csv(path + \"test.csv\")\n",
    "sample_submission = pl.read_csv(path + \"sample_submission.csv\")"
   ]
  },
  {
   "cell_type": "code",
   "execution_count": 18,
   "metadata": {},
   "outputs": [
    {
     "name": "stdout",
     "output_type": "stream",
     "text": [
      "Available Memory: 32.31309127807617 GB\n"
     ]
    }
   ],
   "source": [
    "# 시스템 메모리 정보 가져오기\n",
    "mem = psutil.virtual_memory()\n",
    "# 남은 램 용량 확인\n",
    "available_memory = mem.available / (1024 ** 3)  # GB 단위로 변환\n",
    "print(\"Available Memory:\", available_memory, \"GB\")"
   ]
  },
  {
   "cell_type": "code",
   "execution_count": 4,
   "metadata": {},
   "outputs": [
    {
     "name": "stdout",
     "output_type": "stream",
     "text": [
      "(28605391, 41)\n",
      "(4538541, 40)\n"
     ]
    }
   ],
   "source": [
    "print(train.shape)\n",
    "print(test.shape)"
   ]
  },
  {
   "cell_type": "code",
   "execution_count": 5,
   "metadata": {},
   "outputs": [
    {
     "data": {
      "text/html": [
       "<div><style>\n",
       ".dataframe > thead > tr,\n",
       ".dataframe > tbody > tr {\n",
       "  text-align: right;\n",
       "  white-space: pre-wrap;\n",
       "}\n",
       "</style>\n",
       "<small>shape: (2, 2)</small><table border=\"1\" class=\"dataframe\"><thead><tr><th>Click</th><th>count</th></tr><tr><td>i64</td><td>u32</td></tr></thead><tbody><tr><td>0</td><td>23035531</td></tr><tr><td>1</td><td>5569860</td></tr></tbody></table></div>"
      ],
      "text/plain": [
       "shape: (2, 2)\n",
       "┌───────┬──────────┐\n",
       "│ Click ┆ count    │\n",
       "│ ---   ┆ ---      │\n",
       "│ i64   ┆ u32      │\n",
       "╞═══════╪══════════╡\n",
       "│ 0     ┆ 23035531 │\n",
       "│ 1     ┆ 5569860  │\n",
       "└───────┴──────────┘"
      ]
     },
     "execution_count": 5,
     "metadata": {},
     "output_type": "execute_result"
    }
   ],
   "source": [
    "label_counts = train[\"Click\"].value_counts()\n",
    "label_counts"
   ]
  },
  {
   "cell_type": "markdown",
   "metadata": {},
   "source": [
    "## Feature_Engineering"
   ]
  },
  {
   "cell_type": "markdown",
   "metadata": {},
   "source": [
    "결측치"
   ]
  },
  {
   "cell_type": "code",
   "execution_count": 3,
   "metadata": {},
   "outputs": [
    {
     "name": "stdout",
     "output_type": "stream",
     "text": [
      "shape: (28_605_391, 41)\n",
      "┌────────────────┬───────┬─────────┬─────────┬───┬──────┬─────────┬─────┬─────────┐\n",
      "│ ID             ┆ Click ┆ F01     ┆ F02     ┆ … ┆ F36  ┆ F37     ┆ F38 ┆ F39     │\n",
      "│ ---            ┆ ---   ┆ ---     ┆ ---     ┆   ┆ ---  ┆ ---     ┆ --- ┆ ---     │\n",
      "│ str            ┆ i64   ┆ str     ┆ str     ┆   ┆ f64  ┆ str     ┆ f64 ┆ str     │\n",
      "╞════════════════╪═══════╪═════════╪═════════╪═══╪══════╪═════════╪═════╪═════════╡\n",
      "│ TRAIN_00000000 ┆ 1     ┆ NSLHFNS ┆ AVKQTCL ┆ … ┆ null ┆ TFJMLCZ ┆ 0.0 ┆ AURZYDY │\n",
      "│ TRAIN_00000001 ┆ 0     ┆ VGIVWZQ ┆ LSUSMVO ┆ … ┆ 19.0 ┆ AUGTURV ┆ 0.0 ┆ LUZRMLU │\n",
      "│ TRAIN_00000002 ┆ 0     ┆ JCDXFYU ┆ PILDDJU ┆ … ┆ 8.0  ┆ ZVSTLNM ┆ 0.0 ┆ MHBRSQK │\n",
      "│ TRAIN_00000003 ┆ 1     ┆ PSMFWTP ┆ ZYAVJHP ┆ … ┆ 14.0 ┆ ZBSRLCQ ┆ 0.0 ┆ GAZBSSZ │\n",
      "│ TRAIN_00000004 ┆ 0     ┆ SLCRICD ┆ QPQWGXA ┆ … ┆ 13.0 ┆ QHYLSBX ┆ 0.0 ┆ QTATWAY │\n",
      "│ …              ┆ …     ┆ …       ┆ …       ┆ … ┆ …    ┆ …       ┆ …   ┆ …       │\n",
      "│ TRAIN_28605386 ┆ 0     ┆ NLVEHEJ ┆ TQLUNHQ ┆ … ┆ 6.0  ┆ TFJMLCZ ┆ 0.0 ┆ ZBOTIHF │\n",
      "│ TRAIN_28605387 ┆ 0     ┆ GGCUFPH ┆ JLGELTR ┆ … ┆ null ┆ BBDNLVH ┆ 0.0 ┆ LXTGFRC │\n",
      "│ TRAIN_28605388 ┆ 0     ┆ SNXDPNU ┆ VTPZTHN ┆ … ┆ 20.0 ┆ OOQBJMI ┆ 0.0 ┆ XIWMBGB │\n",
      "│ TRAIN_28605389 ┆ 1     ┆ RTCZYBD ┆ FHCKUNS ┆ … ┆ 6.0  ┆ KTCQCEU ┆ 0.0 ┆ OYLBHKU │\n",
      "│ TRAIN_28605390 ┆ 1     ┆ null    ┆ null    ┆ … ┆ null ┆ HDRJSGN ┆ 0.0 ┆ JJZPKGE │\n",
      "└────────────────┴───────┴─────────┴─────────┴───┴──────┴─────────┴─────┴─────────┘\n",
      "ID: 0.00% missing\n",
      "Click: 0.00% missing\n",
      "F01: 4.32% missing\n",
      "F02: 4.32% missing\n",
      "F03: 36.86% missing\n",
      "F04: 20.07% missing\n",
      "F05: 4.32% missing\n",
      "F06: 0.00% missing\n",
      "F07: 0.00% missing\n",
      "F08: 0.00% missing\n",
      "F09: 0.00% missing\n",
      "F10: 4.32% missing\n",
      "F11: 10.33% missing\n",
      "F12: 4.32% missing\n",
      "F13: 0.00% missing\n",
      "F14: 0.00% missing\n",
      "F15: 36.86% missing\n",
      "F16: 0.00% missing\n",
      "F17: 0.00% missing\n",
      "F18: 25.61% missing\n",
      "F19: 9.05% missing\n",
      "F20: 36.86% missing\n",
      "F21: 0.00% missing\n",
      "F22: 0.00% missing\n",
      "F23: 0.00% missing\n",
      "F24: 31.44% missing\n",
      "F25: 0.00% missing\n",
      "F26: 36.86% missing\n",
      "F27: 38.68% missing\n",
      "F28: 0.00% missing\n",
      "F29: 38.68% missing\n",
      "F30: 0.00% missing\n",
      "F31: 0.00% missing\n",
      "F32: 0.88% missing\n",
      "F33: 9.05% missing\n",
      "F34: 4.32% missing\n",
      "F35: 0.00% missing\n",
      "F36: 25.61% missing\n",
      "F37: 0.00% missing\n",
      "F38: 2.80% missing\n",
      "F39: 0.00% missing\n",
      "_____________\n",
      "shape: (4_538_541, 40)\n",
      "┌──────────────┬─────────┬─────────┬─────────┬───┬──────┬─────────┬──────┬─────────┐\n",
      "│ ID           ┆ F01     ┆ F02     ┆ F03     ┆ … ┆ F36  ┆ F37     ┆ F38  ┆ F39     │\n",
      "│ ---          ┆ ---     ┆ ---     ┆ ---     ┆   ┆ ---  ┆ ---     ┆ ---  ┆ ---     │\n",
      "│ str          ┆ str     ┆ str     ┆ str     ┆   ┆ f64  ┆ str     ┆ f64  ┆ str     │\n",
      "╞══════════════╪═════════╪═════════╪═════════╪═══╪══════╪═════════╪══════╪═════════╡\n",
      "│ TEST_0000000 ┆ null    ┆ null    ┆ IAGJDOH ┆ … ┆ null ┆ VINCJKA ┆ 0.0  ┆ AWWBMDJ │\n",
      "│ TEST_0000001 ┆ SDVLQID ┆ VDDLZCR ┆ DTZFPRW ┆ … ┆ null ┆ KSGNDBR ┆ 0.0  ┆ OJTGSWO │\n",
      "│ TEST_0000002 ┆ XXQINZY ┆ AXQDKZD ┆ IAGJDOH ┆ … ┆ null ┆ VINCJKA ┆ 0.0  ┆ INBFMRT │\n",
      "│ TEST_0000003 ┆ JCDXFYU ┆ PILDDJU ┆ IAGJDOH ┆ … ┆ 8.0  ┆ RWQBLLR ┆ 0.0  ┆ OYSGPBR │\n",
      "│ TEST_0000004 ┆ DZPQPXK ┆ HKSCOJF ┆ null    ┆ … ┆ 0.0  ┆ XJLBFMB ┆ 1.0  ┆ OYSGPBR │\n",
      "│ …            ┆ …       ┆ …       ┆ …       ┆ … ┆ …    ┆ …       ┆ …    ┆ …       │\n",
      "│ TEST_4538536 ┆ HXMHUGD ┆ TPUSZQU ┆ KVMAIVS ┆ … ┆ null ┆ FFPNBWG ┆ 0.0  ┆ BMSFIQK │\n",
      "│ TEST_4538537 ┆ EFGUTAG ┆ GUSHKRP ┆ DTZFPRW ┆ … ┆ null ┆ WAIUOTK ┆ null ┆ VDXHTFG │\n",
      "│ TEST_4538538 ┆ GYLFJDQ ┆ ZMBKXJC ┆ IAGJDOH ┆ … ┆ null ┆ OZXTENF ┆ 0.0  ┆ RVCHAPT │\n",
      "│ TEST_4538539 ┆ YITFONK ┆ BXRXQUP ┆ PCCSJYL ┆ … ┆ null ┆ IMTFAOW ┆ 0.0  ┆ TVCMTFA │\n",
      "│ TEST_4538540 ┆ null    ┆ null    ┆ DTZFPRW ┆ … ┆ null ┆ HCVVVQD ┆ 0.0  ┆ RSJOBLE │\n",
      "└──────────────┴─────────┴─────────┴─────────┴───┴──────┴─────────┴──────┴─────────┘\n",
      "ID: 0.00% missing\n",
      "F01: 4.23% missing\n",
      "F02: 4.23% missing\n",
      "F03: 35.40% missing\n",
      "F04: 20.05% missing\n",
      "F05: 4.23% missing\n",
      "F06: 0.00% missing\n",
      "F07: 0.00% missing\n",
      "F08: 0.00% missing\n",
      "F09: 0.00% missing\n",
      "F10: 4.23% missing\n",
      "F11: 10.50% missing\n",
      "F12: 4.23% missing\n",
      "F13: 0.00% missing\n",
      "F14: 0.00% missing\n",
      "F15: 35.40% missing\n",
      "F16: 0.00% missing\n",
      "F17: 0.00% missing\n",
      "F18: 26.12% missing\n",
      "F19: 11.06% missing\n",
      "F20: 35.40% missing\n",
      "F21: 0.00% missing\n",
      "F22: 0.00% missing\n",
      "F23: 0.00% missing\n",
      "F24: 31.96% missing\n",
      "F25: 0.00% missing\n",
      "F26: 35.40% missing\n",
      "F27: 38.16% missing\n",
      "F28: 0.00% missing\n",
      "F29: 38.16% missing\n",
      "F30: 0.00% missing\n",
      "F31: 0.00% missing\n",
      "F32: 1.14% missing\n",
      "F33: 11.06% missing\n",
      "F34: 4.23% missing\n",
      "F35: 0.00% missing\n",
      "F36: 26.12% missing\n",
      "F37: 0.00% missing\n",
      "F38: 2.98% missing\n",
      "F39: 0.00% missing\n",
      "_____________\n"
     ]
    }
   ],
   "source": [
    "dfs = [train,test]\n",
    "# 각 열을 순회하며 결측치의 비율 계산\n",
    "for df in dfs:\n",
    "    print(df)\n",
    "    for col in df.columns:\n",
    "        # 결측치 비율 계산\n",
    "        missing_percentage = df[col].null_count() / len(df) * 100\n",
    "        print(f\"{col}: {missing_percentage:.2f}% missing\")\n",
    "    print('_____________')"
   ]
  },
  {
   "cell_type": "code",
   "execution_count": 19,
   "metadata": {},
   "outputs": [],
   "source": [
    "def filter_cols(df): #결측치가 35%이상 되는 피처들 제외\n",
    "    for col in df.columns:\n",
    "        if col not in [\"ID\"]:\n",
    "            missing_percentage = df[col].null_count() / len(df) * 100\n",
    "            if missing_percentage > 35:\n",
    "                print(col)\n",
    "                df = df.drop(col)\n",
    "    print(\"____________________________________________\")\n",
    "    for col in df.columns: #클래스 수가 1 혹은 200이 넘는 카테고리 변수들 제거\n",
    "        if (col not in [\"ID\"]) & (df[col].dtype == pl.String):\n",
    "            freq = df[col].n_unique()\n",
    "            if (freq == 1) | (freq > 4538541):\n",
    "                print(col)\n",
    "                df = df.drop(col)        \n",
    "    return df"
   ]
  },
  {
   "cell_type": "code",
   "execution_count": 20,
   "metadata": {},
   "outputs": [],
   "source": [
    "def fill_missing_values(df):\n",
    "    \"\"\"\n",
    "    폴라스 데이터프레임에서 열을 순회하며,\n",
    "    문자형 열의 결측치를 \"nan\"으로 채우고,\n",
    "    수치형 열의 결측치를 0으로 채움\n",
    "    \"\"\"\n",
    "    for column in df.columns:\n",
    "        if df[column].dtype == 'String':  # 문자형 열인 경우\n",
    "            df = df.with_columns(pl.col(column).fill_null(np.nan))\n",
    "        else:  # 수치형 열인 경우\n",
    "            df = df.with_columns(pl.col(column).fill_null(0))\n",
    "    return df"
   ]
  },
  {
   "cell_type": "code",
   "execution_count": 21,
   "metadata": {},
   "outputs": [
    {
     "name": "stdout",
     "output_type": "stream",
     "text": [
      "F03\n",
      "F15\n",
      "F20\n",
      "F26\n",
      "F27\n",
      "F29\n",
      "____________________________________________\n",
      "F01\n",
      "F05\n"
     ]
    }
   ],
   "source": [
    "train = filter_cols(train)"
   ]
  },
  {
   "cell_type": "code",
   "execution_count": 22,
   "metadata": {},
   "outputs": [
    {
     "name": "stdout",
     "output_type": "stream",
     "text": [
      "F03\n",
      "F15\n",
      "F20\n",
      "F26\n",
      "F27\n",
      "F29\n",
      "____________________________________________\n"
     ]
    }
   ],
   "source": [
    "test = filter_cols(test)"
   ]
  },
  {
   "cell_type": "code",
   "execution_count": 23,
   "metadata": {},
   "outputs": [],
   "source": [
    "test = test.drop(['F01','F05']) #test 전체 개수보다 많은 class인 열 제거 "
   ]
  },
  {
   "cell_type": "code",
   "execution_count": 7,
   "metadata": {},
   "outputs": [],
   "source": [
    "#train = fill_missing_values(train)\n",
    "#test = fill_missing_values(test)"
   ]
  },
  {
   "cell_type": "markdown",
   "metadata": {},
   "source": [
    "모델링을 위해 판다스로 변환"
   ]
  },
  {
   "cell_type": "code",
   "execution_count": 24,
   "metadata": {},
   "outputs": [],
   "source": [
    "#category 변환\n",
    "def to_pandas(df_data, categorical_feat=None): #판다스로 바꾸기. 문자형 변수들 카테고리로 변환\n",
    "    df_data = df_data.to_pandas()\n",
    "    if categorical_feat is None:\n",
    "        categorical_feat = list(df_data.select_dtypes(\"object\").columns) #카테고리 컬럼들 지정\n",
    "        categorical_feat.remove('ID')\n",
    "    return df_data, categorical_feat"
   ]
  },
  {
   "cell_type": "code",
   "execution_count": 25,
   "metadata": {},
   "outputs": [],
   "source": [
    "train, categorical_feat1 = to_pandas(train)\n",
    "test, categorical_feat2 = to_pandas(test) "
   ]
  },
  {
   "cell_type": "code",
   "execution_count": 26,
   "metadata": {},
   "outputs": [
    {
     "data": {
      "text/plain": [
       "['F02',\n",
       " 'F07',\n",
       " 'F08',\n",
       " 'F09',\n",
       " 'F10',\n",
       " 'F12',\n",
       " 'F13',\n",
       " 'F16',\n",
       " 'F17',\n",
       " 'F21',\n",
       " 'F22',\n",
       " 'F23',\n",
       " 'F25',\n",
       " 'F28',\n",
       " 'F30',\n",
       " 'F31',\n",
       " 'F34',\n",
       " 'F35',\n",
       " 'F37',\n",
       " 'F39']"
      ]
     },
     "execution_count": 26,
     "metadata": {},
     "output_type": "execute_result"
    }
   ],
   "source": [
    "categorical_feat1"
   ]
  },
  {
   "cell_type": "code",
   "execution_count": 27,
   "metadata": {},
   "outputs": [
    {
     "data": {
      "text/plain": [
       "['F02',\n",
       " 'F07',\n",
       " 'F08',\n",
       " 'F09',\n",
       " 'F10',\n",
       " 'F12',\n",
       " 'F13',\n",
       " 'F16',\n",
       " 'F17',\n",
       " 'F21',\n",
       " 'F22',\n",
       " 'F23',\n",
       " 'F25',\n",
       " 'F28',\n",
       " 'F30',\n",
       " 'F31',\n",
       " 'F34',\n",
       " 'F35',\n",
       " 'F37',\n",
       " 'F39']"
      ]
     },
     "execution_count": 27,
     "metadata": {},
     "output_type": "execute_result"
    }
   ],
   "source": [
    "categorical_feat2"
   ]
  },
  {
   "cell_type": "code",
   "execution_count": 28,
   "metadata": {},
   "outputs": [
    {
     "name": "stdout",
     "output_type": "stream",
     "text": [
      "Available Memory: 38.12531280517578 GB\n"
     ]
    }
   ],
   "source": [
    "# 시스템 메모리 정보 가져오기\n",
    "mem = psutil.virtual_memory()\n",
    "\n",
    "# 남은 램 용량 확인\n",
    "available_memory = mem.available / (1024 ** 3)  # GB 단위로 변환\n",
    "print(\"Available Memory:\", available_memory, \"GB\")"
   ]
  },
  {
   "cell_type": "markdown",
   "metadata": {},
   "source": [
    "## 메모리 최적화"
   ]
  },
  {
   "cell_type": "code",
   "execution_count": 29,
   "metadata": {},
   "outputs": [],
   "source": [
    "def reduce_mem_usage(df): #판다스에 적용할 것\n",
    "    \n",
    "    # 메모리 최적화\n",
    "    start_mem = df.memory_usage().sum() / 1024**2\n",
    "    print('Memory usage of dataframe is {:.2f} MB'.format(start_mem))\n",
    "    \n",
    "    for col in df.columns:\n",
    "        col_type = df[col].dtype\n",
    "        \n",
    "        if col_type != object:\n",
    "            c_min = df[col].min()\n",
    "            c_max = df[col].max()\n",
    "            if str(col_type)[:3] == 'int':\n",
    "                if c_min > np.iinfo(np.int8).min and c_max < np.iinfo(np.int8).max:\n",
    "                    df[col] = df[col].astype(np.int8)\n",
    "                elif c_min > np.iinfo(np.int16).min and c_max < np.iinfo(np.int16).max:\n",
    "                    df[col] = df[col].astype(np.int16)\n",
    "                elif c_min > np.iinfo(np.int32).min and c_max < np.iinfo(np.int32).max:\n",
    "                    df[col] = df[col].astype(np.int32)\n",
    "                elif c_min > np.iinfo(np.int64).min and c_max < np.iinfo(np.int64).max:\n",
    "                    df[col] = df[col].astype(np.int64)  \n",
    "            else:\n",
    "                if c_min > np.finfo(np.float16).min and c_max < np.finfo(np.float16).max:\n",
    "                    df[col] = df[col].astype(np.float16)\n",
    "                elif c_min > np.finfo(np.float32).min and c_max < np.finfo(np.float32).max:\n",
    "                    df[col] = df[col].astype(np.float32)\n",
    "                else:\n",
    "                    df[col] = df[col].astype(np.float64)\n",
    "        else:\n",
    "            continue\n",
    "    end_mem = df.memory_usage().sum() / 1024**2\n",
    "    print('Memory usage after optimization is: {:.2f} MB'.format(end_mem))\n",
    "    print('Decreased by {:.1f}%'.format(100 * (start_mem - end_mem) / start_mem))\n",
    "    \n",
    "    return df"
   ]
  },
  {
   "cell_type": "code",
   "execution_count": 30,
   "metadata": {},
   "outputs": [
    {
     "name": "stdout",
     "output_type": "stream",
     "text": [
      "Memory usage of dataframe is 7201.98 MB\n",
      "Memory usage after optimization is: 5428.77 MB\n",
      "Decreased by 24.6%\n"
     ]
    }
   ],
   "source": [
    "train = reduce_mem_usage(train)"
   ]
  },
  {
   "cell_type": "code",
   "execution_count": 31,
   "metadata": {},
   "outputs": [
    {
     "name": "stdout",
     "output_type": "stream",
     "text": [
      "Memory usage of dataframe is 1108.04 MB\n",
      "Memory usage after optimization is: 848.34 MB\n",
      "Decreased by 23.4%\n"
     ]
    }
   ],
   "source": [
    "test = reduce_mem_usage(test)"
   ]
  },
  {
   "cell_type": "code",
   "execution_count": 34,
   "metadata": {},
   "outputs": [
    {
     "name": "stdout",
     "output_type": "stream",
     "text": [
      "Available Memory: 40.082908630371094 GB\n"
     ]
    }
   ],
   "source": [
    "# 시스템 메모리 정보 가져오기\n",
    "mem = psutil.virtual_memory()\n",
    "\n",
    "# 남은 램 용량 확인\n",
    "available_memory = mem.available / (1024 ** 3)  # GB 단위로 변환\n",
    "print(\"Available Memory:\", available_memory, \"GB\")"
   ]
  },
  {
   "cell_type": "code",
   "execution_count": 35,
   "metadata": {},
   "outputs": [],
   "source": [
    "target = \"Click\"\n",
    "\n",
    "X_train = train.drop(columns = [target,'ID'])\n",
    "y_train = train[target]\n",
    "\n",
    "X_test = test.drop(columns = 'ID')\n",
    "test_id = test['ID']"
   ]
  },
  {
   "cell_type": "code",
   "execution_count": 37,
   "metadata": {},
   "outputs": [
    {
     "name": "stdout",
     "output_type": "stream",
     "text": [
      "Available Memory: 34.22330093383789 GB\n"
     ]
    }
   ],
   "source": [
    "import psutil\n",
    "\n",
    "# 시스템 메모리 정보 가져오기\n",
    "mem = psutil.virtual_memory()\n",
    "\n",
    "# 남은 램 용량 확인\n",
    "available_memory = mem.available / (1024 ** 3)  # GB 단위로 변환\n",
    "print(\"Available Memory:\", available_memory, \"GB\")"
   ]
  },
  {
   "cell_type": "code",
   "execution_count": 39,
   "metadata": {},
   "outputs": [],
   "source": [
    "from sklearn.model_selection import train_test_split\n",
    "\n",
    "# 클래스 불균형이 있는 경우 계층적 샘플링을 이용하여 데이터 분할\n",
    "X_train1, X_test1, y_train1, y_test1 = train_test_split(X_train, y_train, test_size=0.2, stratify=y_train, random_state=42)"
   ]
  },
  {
   "cell_type": "code",
   "execution_count": 40,
   "metadata": {},
   "outputs": [
    {
     "name": "stdout",
     "output_type": "stream",
     "text": [
      "Available Memory: 28.673316955566406 GB\n"
     ]
    }
   ],
   "source": [
    "import psutil\n",
    "\n",
    "# 시스템 메모리 정보 가져오기\n",
    "mem = psutil.virtual_memory()\n",
    "\n",
    "# 남은 램 용량 확인\n",
    "available_memory = mem.available / (1024 ** 3)  # GB 단위로 변환\n",
    "print(\"Available Memory:\", available_memory, \"GB\")"
   ]
  },
  {
   "cell_type": "markdown",
   "metadata": {},
   "source": [
    "# Models"
   ]
  },
  {
   "cell_type": "markdown",
   "metadata": {},
   "source": [
    "## Catboost"
   ]
  },
  {
   "cell_type": "code",
   "execution_count": 41,
   "metadata": {},
   "outputs": [
    {
     "name": "stdout",
     "output_type": "stream",
     "text": [
      "<class 'pandas.core.frame.DataFrame'>\n",
      "Index: 22884312 entries, 13803063 to 6118378\n",
      "Data columns (total 31 columns):\n",
      " #   Column  Dtype  \n",
      "---  ------  -----  \n",
      " 0   F02     object \n",
      " 1   F04     float32\n",
      " 2   F06     int32  \n",
      " 3   F07     object \n",
      " 4   F08     object \n",
      " 5   F09     object \n",
      " 6   F10     object \n",
      " 7   F11     float16\n",
      " 8   F12     object \n",
      " 9   F13     object \n",
      " 10  F14     int16  \n",
      " 11  F16     object \n",
      " 12  F17     object \n",
      " 13  F18     float16\n",
      " 14  F19     float16\n",
      " 15  F21     object \n",
      " 16  F22     object \n",
      " 17  F23     object \n",
      " 18  F24     float32\n",
      " 19  F25     object \n",
      " 20  F28     object \n",
      " 21  F30     object \n",
      " 22  F31     object \n",
      " 23  F32     float32\n",
      " 24  F33     float16\n",
      " 25  F34     object \n",
      " 26  F35     object \n",
      " 27  F36     float16\n",
      " 28  F37     object \n",
      " 29  F38     float16\n",
      " 30  F39     object \n",
      "dtypes: float16(6), float32(3), int16(1), int32(1), object(20)\n",
      "memory usage: 4.2+ GB\n"
     ]
    }
   ],
   "source": [
    "X_train1.info()"
   ]
  },
  {
   "cell_type": "code",
   "execution_count": 42,
   "metadata": {},
   "outputs": [
    {
     "data": {
      "text/plain": [
       "F02     987796\n",
       "F04    4595069\n",
       "F06          0\n",
       "F07          0\n",
       "F08          0\n",
       "F09          0\n",
       "F10     987796\n",
       "F11    2365001\n",
       "F12     987796\n",
       "F13          0\n",
       "F14          0\n",
       "F16          0\n",
       "F17          0\n",
       "F18    5860562\n",
       "F19    2071800\n",
       "F21          0\n",
       "F22          0\n",
       "F23          0\n",
       "F24    7195434\n",
       "F25          0\n",
       "F28          0\n",
       "F30          0\n",
       "F31          0\n",
       "F32     201167\n",
       "F33    2071800\n",
       "F34     987796\n",
       "F35          0\n",
       "F36    5860562\n",
       "F37          0\n",
       "F38     640631\n",
       "F39          0\n",
       "dtype: int64"
      ]
     },
     "execution_count": 42,
     "metadata": {},
     "output_type": "execute_result"
    }
   ],
   "source": [
    "X_train1.isna().sum()"
   ]
  },
  {
   "cell_type": "code",
   "execution_count": 43,
   "metadata": {},
   "outputs": [],
   "source": [
    "#catb가 다룰 카테고리 변수에는 nan 값이 허용되지 않는다. 따라서 str로 바꿔준 뒤 catb에 넘겨준다.\n",
    "#str로 바꾸면 결측치 nan이 또 하나의 그냥 카테고리가 되는 효과가 있음\n",
    "\n",
    "X_train1[categorical_feat1] = X_train1[categorical_feat1].astype(str)\n",
    "X_test1[categorical_feat1] = X_test1[categorical_feat1].astype(str)\n",
    "\n",
    "X_test[categorical_feat1] = X_test[categorical_feat1].astype(str)"
   ]
  },
  {
   "cell_type": "code",
   "execution_count": 44,
   "metadata": {},
   "outputs": [
    {
     "data": {
      "text/plain": [
       "F02          0\n",
       "F04    4595069\n",
       "F06          0\n",
       "F07          0\n",
       "F08          0\n",
       "F09          0\n",
       "F10          0\n",
       "F11    2365001\n",
       "F12          0\n",
       "F13          0\n",
       "F14          0\n",
       "F16          0\n",
       "F17          0\n",
       "F18    5860562\n",
       "F19    2071800\n",
       "F21          0\n",
       "F22          0\n",
       "F23          0\n",
       "F24    7195434\n",
       "F25          0\n",
       "F28          0\n",
       "F30          0\n",
       "F31          0\n",
       "F32     201167\n",
       "F33    2071800\n",
       "F34          0\n",
       "F35          0\n",
       "F36    5860562\n",
       "F37          0\n",
       "F38     640631\n",
       "F39          0\n",
       "dtype: int64"
      ]
     },
     "execution_count": 44,
     "metadata": {},
     "output_type": "execute_result"
    }
   ],
   "source": [
    "X_train1.isna().sum()"
   ]
  },
  {
   "cell_type": "code",
   "execution_count": 46,
   "metadata": {},
   "outputs": [
    {
     "name": "stdout",
     "output_type": "stream",
     "text": [
      "Available Memory: 28.302654266357422 GB\n"
     ]
    }
   ],
   "source": [
    "import psutil\n",
    "\n",
    "# 시스템 메모리 정보 가져오기\n",
    "mem = psutil.virtual_memory()\n",
    "\n",
    "# 남은 램 용량 확인\n",
    "available_memory = mem.available / (1024 ** 3)  # GB 단위로 변환\n",
    "print(\"Available Memory:\", available_memory, \"GB\")"
   ]
  },
  {
   "cell_type": "code",
   "execution_count": 47,
   "metadata": {},
   "outputs": [
    {
     "name": "stderr",
     "output_type": "stream",
     "text": [
      "Default metric period is 5 because AUC is/are not implemented for GPU\n"
     ]
    },
    {
     "name": "stdout",
     "output_type": "stream",
     "text": [
      "0:\ttest: 0.7243258\tbest: 0.7243258 (0)\ttotal: 2.91s\tremaining: 9m 40s\n",
      "1:\ttotal: 6.15s\tremaining: 10m 9s\n",
      "2:\ttotal: 9.14s\tremaining: 10m\n",
      "3:\ttotal: 12.7s\tremaining: 10m 24s\n",
      "4:\ttotal: 15.9s\tremaining: 10m 21s\n",
      "5:\ttest: 0.7363940\tbest: 0.7363940 (5)\ttotal: 19.2s\tremaining: 10m 21s\n",
      "6:\ttotal: 22.2s\tremaining: 10m 12s\n",
      "7:\ttotal: 25.9s\tremaining: 10m 22s\n",
      "8:\ttotal: 29.2s\tremaining: 10m 20s\n",
      "9:\ttotal: 32.9s\tremaining: 10m 24s\n",
      "10:\ttest: 0.7396747\tbest: 0.7396747 (10)\ttotal: 36.4s\tremaining: 10m 25s\n",
      "11:\ttotal: 39.8s\tremaining: 10m 23s\n",
      "12:\ttotal: 43.1s\tremaining: 10m 19s\n",
      "13:\ttotal: 46.2s\tremaining: 10m 14s\n",
      "14:\ttotal: 48.9s\tremaining: 10m 3s\n",
      "15:\ttest: 0.7426370\tbest: 0.7426370 (15)\ttotal: 52.1s\tremaining: 9m 58s\n",
      "16:\ttotal: 55.4s\tremaining: 9m 56s\n",
      "17:\ttotal: 58.7s\tremaining: 9m 53s\n",
      "18:\ttotal: 1m 1s\tremaining: 9m 47s\n",
      "19:\ttotal: 1m 4s\tremaining: 9m 41s\n",
      "20:\ttest: 0.7459271\tbest: 0.7459271 (20)\ttotal: 1m 8s\tremaining: 9m 41s\n",
      "21:\ttotal: 1m 11s\tremaining: 9m 35s\n",
      "22:\ttotal: 1m 14s\tremaining: 9m 32s\n",
      "23:\ttotal: 1m 16s\tremaining: 9m 24s\n",
      "24:\ttotal: 1m 19s\tremaining: 9m 17s\n",
      "25:\ttest: 0.7480699\tbest: 0.7480699 (25)\ttotal: 1m 22s\tremaining: 9m 10s\n",
      "26:\ttotal: 1m 25s\tremaining: 9m 5s\n",
      "27:\ttotal: 1m 27s\tremaining: 8m 58s\n",
      "28:\ttotal: 1m 30s\tremaining: 8m 54s\n",
      "29:\ttotal: 1m 33s\tremaining: 8m 51s\n",
      "30:\ttest: 0.7500642\tbest: 0.7500642 (30)\ttotal: 1m 36s\tremaining: 8m 45s\n",
      "31:\ttotal: 1m 38s\tremaining: 8m 38s\n",
      "32:\ttotal: 1m 41s\tremaining: 8m 35s\n",
      "33:\ttotal: 1m 46s\tremaining: 8m 37s\n",
      "34:\ttotal: 1m 49s\tremaining: 8m 34s\n",
      "35:\ttest: 0.7517836\tbest: 0.7517836 (35)\ttotal: 1m 51s\tremaining: 8m 28s\n",
      "36:\ttotal: 1m 54s\tremaining: 8m 23s\n",
      "37:\ttotal: 1m 56s\tremaining: 8m 18s\n",
      "38:\ttotal: 1m 59s\tremaining: 8m 15s\n",
      "39:\ttotal: 2m 2s\tremaining: 8m 9s\n",
      "40:\ttest: 0.7532369\tbest: 0.7532369 (40)\ttotal: 2m 4s\tremaining: 8m 3s\n",
      "41:\ttotal: 2m 7s\tremaining: 8m\n",
      "42:\ttotal: 2m 10s\tremaining: 7m 55s\n",
      "43:\ttotal: 2m 13s\tremaining: 7m 51s\n",
      "44:\ttotal: 2m 15s\tremaining: 7m 47s\n",
      "45:\ttest: 0.7545579\tbest: 0.7545579 (45)\ttotal: 2m 18s\tremaining: 7m 42s\n",
      "46:\ttotal: 2m 21s\tremaining: 7m 40s\n",
      "47:\ttotal: 2m 24s\tremaining: 7m 38s\n",
      "48:\ttotal: 2m 27s\tremaining: 7m 34s\n",
      "49:\ttotal: 2m 31s\tremaining: 7m 33s\n",
      "50:\ttest: 0.7557292\tbest: 0.7557292 (50)\ttotal: 2m 33s\tremaining: 7m 28s\n",
      "51:\ttotal: 2m 36s\tremaining: 7m 24s\n",
      "52:\ttotal: 2m 38s\tremaining: 7m 20s\n",
      "53:\ttotal: 2m 41s\tremaining: 7m 17s\n",
      "54:\ttotal: 2m 44s\tremaining: 7m 14s\n",
      "55:\ttest: 0.7567191\tbest: 0.7567191 (55)\ttotal: 2m 47s\tremaining: 7m 10s\n",
      "56:\ttotal: 2m 49s\tremaining: 7m 6s\n",
      "57:\ttotal: 2m 52s\tremaining: 7m 3s\n",
      "58:\ttotal: 2m 55s\tremaining: 6m 59s\n",
      "59:\ttotal: 2m 58s\tremaining: 6m 56s\n",
      "60:\ttest: 0.7577019\tbest: 0.7577019 (60)\ttotal: 3m\tremaining: 6m 51s\n",
      "61:\ttotal: 3m 3s\tremaining: 6m 48s\n",
      "62:\ttotal: 3m 5s\tremaining: 6m 42s\n",
      "63:\ttotal: 3m 7s\tremaining: 6m 39s\n",
      "64:\ttotal: 3m 10s\tremaining: 6m 36s\n",
      "65:\ttest: 0.7585539\tbest: 0.7585539 (65)\ttotal: 3m 13s\tremaining: 6m 32s\n",
      "66:\ttotal: 3m 15s\tremaining: 6m 28s\n",
      "67:\ttotal: 3m 18s\tremaining: 6m 25s\n",
      "68:\ttotal: 3m 22s\tremaining: 6m 24s\n",
      "69:\ttotal: 3m 25s\tremaining: 6m 21s\n",
      "70:\ttest: 0.7595228\tbest: 0.7595228 (70)\ttotal: 3m 28s\tremaining: 6m 19s\n",
      "71:\ttotal: 3m 30s\tremaining: 6m 15s\n",
      "72:\ttotal: 3m 33s\tremaining: 6m 11s\n",
      "73:\ttotal: 3m 37s\tremaining: 6m 9s\n",
      "74:\ttotal: 3m 39s\tremaining: 6m 6s\n",
      "75:\ttest: 0.7603686\tbest: 0.7603686 (75)\ttotal: 3m 42s\tremaining: 6m 3s\n",
      "76:\ttotal: 3m 44s\tremaining: 5m 58s\n",
      "77:\ttotal: 3m 47s\tremaining: 5m 55s\n",
      "78:\ttotal: 3m 49s\tremaining: 5m 51s\n",
      "79:\ttotal: 3m 51s\tremaining: 5m 47s\n",
      "80:\ttest: 0.7612492\tbest: 0.7612492 (80)\ttotal: 3m 55s\tremaining: 5m 46s\n",
      "81:\ttotal: 3m 57s\tremaining: 5m 42s\n",
      "82:\ttotal: 4m 1s\tremaining: 5m 39s\n",
      "83:\ttotal: 4m 4s\tremaining: 5m 36s\n",
      "84:\ttotal: 4m 6s\tremaining: 5m 33s\n",
      "85:\ttest: 0.7618991\tbest: 0.7618991 (85)\ttotal: 4m 9s\tremaining: 5m 30s\n",
      "86:\ttotal: 4m 12s\tremaining: 5m 27s\n",
      "87:\ttotal: 4m 14s\tremaining: 5m 24s\n",
      "88:\ttotal: 4m 17s\tremaining: 5m 20s\n",
      "89:\ttotal: 4m 19s\tremaining: 5m 17s\n",
      "90:\ttest: 0.7627124\tbest: 0.7627124 (90)\ttotal: 4m 21s\tremaining: 5m 13s\n",
      "91:\ttotal: 4m 25s\tremaining: 5m 11s\n",
      "92:\ttotal: 4m 29s\tremaining: 5m 9s\n",
      "93:\ttotal: 4m 31s\tremaining: 5m 6s\n",
      "94:\ttotal: 4m 34s\tremaining: 5m 3s\n",
      "95:\ttest: 0.7631728\tbest: 0.7631728 (95)\ttotal: 4m 37s\tremaining: 5m\n",
      "96:\ttotal: 4m 40s\tremaining: 4m 57s\n",
      "97:\ttotal: 4m 42s\tremaining: 4m 54s\n",
      "98:\ttotal: 4m 46s\tremaining: 4m 52s\n",
      "99:\ttotal: 4m 48s\tremaining: 4m 48s\n",
      "100:\ttest: 0.7636714\tbest: 0.7636714 (100)\ttotal: 4m 50s\tremaining: 4m 44s\n",
      "101:\ttotal: 4m 52s\tremaining: 4m 41s\n",
      "102:\ttotal: 4m 54s\tremaining: 4m 37s\n",
      "103:\ttotal: 4m 57s\tremaining: 4m 34s\n",
      "104:\ttotal: 4m 59s\tremaining: 4m 31s\n",
      "105:\ttest: 0.7641848\tbest: 0.7641848 (105)\ttotal: 5m 2s\tremaining: 4m 28s\n",
      "106:\ttotal: 5m 4s\tremaining: 4m 25s\n",
      "107:\ttotal: 5m 8s\tremaining: 4m 23s\n",
      "108:\ttotal: 5m 13s\tremaining: 4m 21s\n",
      "109:\ttotal: 5m 16s\tremaining: 4m 19s\n",
      "110:\ttest: 0.7645369\tbest: 0.7645369 (110)\ttotal: 5m 19s\tremaining: 4m 15s\n",
      "111:\ttotal: 5m 21s\tremaining: 4m 12s\n",
      "112:\ttotal: 5m 23s\tremaining: 4m 9s\n",
      "113:\ttotal: 5m 27s\tremaining: 4m 6s\n",
      "114:\ttotal: 5m 29s\tremaining: 4m 3s\n",
      "115:\ttest: 0.7650784\tbest: 0.7650784 (115)\ttotal: 5m 31s\tremaining: 4m\n",
      "116:\ttotal: 5m 33s\tremaining: 3m 56s\n",
      "117:\ttotal: 5m 36s\tremaining: 3m 53s\n",
      "118:\ttotal: 5m 39s\tremaining: 3m 50s\n",
      "119:\ttotal: 5m 42s\tremaining: 3m 48s\n",
      "120:\ttest: 0.7654918\tbest: 0.7654918 (120)\ttotal: 5m 46s\tremaining: 3m 46s\n",
      "121:\ttotal: 5m 49s\tremaining: 3m 43s\n",
      "122:\ttotal: 5m 52s\tremaining: 3m 40s\n",
      "123:\ttotal: 5m 54s\tremaining: 3m 37s\n",
      "124:\ttotal: 5m 57s\tremaining: 3m 34s\n",
      "125:\ttest: 0.7658239\tbest: 0.7658239 (125)\ttotal: 5m 59s\tremaining: 3m 31s\n",
      "126:\ttotal: 6m 1s\tremaining: 3m 27s\n",
      "127:\ttotal: 6m 3s\tremaining: 3m 24s\n",
      "128:\ttotal: 6m 7s\tremaining: 3m 22s\n",
      "129:\ttotal: 6m 11s\tremaining: 3m 19s\n",
      "130:\ttest: 0.7661230\tbest: 0.7661230 (130)\ttotal: 6m 13s\tremaining: 3m 16s\n",
      "131:\ttotal: 6m 16s\tremaining: 3m 14s\n",
      "132:\ttotal: 6m 20s\tremaining: 3m 11s\n",
      "133:\ttotal: 6m 23s\tremaining: 3m 8s\n",
      "134:\ttotal: 6m 26s\tremaining: 3m 6s\n",
      "135:\ttest: 0.7665135\tbest: 0.7665135 (135)\ttotal: 6m 29s\tremaining: 3m 3s\n",
      "136:\ttotal: 6m 31s\tremaining: 3m\n",
      "137:\ttotal: 6m 35s\tremaining: 2m 57s\n",
      "138:\ttotal: 6m 37s\tremaining: 2m 54s\n",
      "139:\ttotal: 6m 39s\tremaining: 2m 51s\n",
      "140:\ttest: 0.7668561\tbest: 0.7668561 (140)\ttotal: 6m 41s\tremaining: 2m 48s\n",
      "141:\ttotal: 6m 45s\tremaining: 2m 45s\n",
      "142:\ttotal: 6m 49s\tremaining: 2m 43s\n",
      "143:\ttotal: 6m 51s\tremaining: 2m 40s\n",
      "144:\ttotal: 6m 54s\tremaining: 2m 37s\n",
      "145:\ttest: 0.7671989\tbest: 0.7671989 (145)\ttotal: 6m 55s\tremaining: 2m 33s\n",
      "146:\ttotal: 6m 59s\tremaining: 2m 31s\n",
      "147:\ttotal: 7m 2s\tremaining: 2m 28s\n",
      "148:\ttotal: 7m 4s\tremaining: 2m 25s\n",
      "149:\ttotal: 7m 6s\tremaining: 2m 22s\n",
      "150:\ttest: 0.7674565\tbest: 0.7674565 (150)\ttotal: 7m 10s\tremaining: 2m 19s\n",
      "151:\ttotal: 7m 13s\tremaining: 2m 16s\n",
      "152:\ttotal: 7m 16s\tremaining: 2m 14s\n",
      "153:\ttotal: 7m 18s\tremaining: 2m 11s\n",
      "154:\ttotal: 7m 20s\tremaining: 2m 7s\n",
      "155:\ttest: 0.7677459\tbest: 0.7677459 (155)\ttotal: 7m 22s\tremaining: 2m 4s\n",
      "156:\ttotal: 7m 25s\tremaining: 2m 2s\n",
      "157:\ttotal: 7m 27s\tremaining: 1m 58s\n",
      "158:\ttotal: 7m 29s\tremaining: 1m 55s\n",
      "159:\ttotal: 7m 32s\tremaining: 1m 53s\n",
      "160:\ttest: 0.7679981\tbest: 0.7679981 (160)\ttotal: 7m 34s\tremaining: 1m 50s\n",
      "161:\ttotal: 7m 36s\tremaining: 1m 47s\n",
      "162:\ttotal: 7m 39s\tremaining: 1m 44s\n",
      "163:\ttotal: 7m 42s\tremaining: 1m 41s\n",
      "164:\ttotal: 7m 46s\tremaining: 1m 39s\n",
      "165:\ttest: 0.7683114\tbest: 0.7683114 (165)\ttotal: 7m 49s\tremaining: 1m 36s\n",
      "166:\ttotal: 7m 51s\tremaining: 1m 33s\n",
      "167:\ttotal: 7m 54s\tremaining: 1m 30s\n",
      "168:\ttotal: 7m 56s\tremaining: 1m 27s\n",
      "169:\ttotal: 7m 59s\tremaining: 1m 24s\n",
      "170:\ttest: 0.7686252\tbest: 0.7686252 (170)\ttotal: 8m 2s\tremaining: 1m 21s\n",
      "171:\ttotal: 8m 6s\tremaining: 1m 19s\n",
      "172:\ttotal: 8m 8s\tremaining: 1m 16s\n",
      "173:\ttotal: 8m 10s\tremaining: 1m 13s\n",
      "174:\ttotal: 8m 12s\tremaining: 1m 10s\n",
      "175:\ttest: 0.7689788\tbest: 0.7689788 (175)\ttotal: 8m 14s\tremaining: 1m 7s\n",
      "176:\ttotal: 8m 17s\tremaining: 1m 4s\n",
      "177:\ttotal: 8m 20s\tremaining: 1m 1s\n",
      "178:\ttotal: 8m 22s\tremaining: 59s\n",
      "179:\ttotal: 8m 26s\tremaining: 56.3s\n",
      "180:\ttest: 0.7692343\tbest: 0.7692343 (180)\ttotal: 8m 30s\tremaining: 53.5s\n",
      "181:\ttotal: 8m 32s\tremaining: 50.7s\n",
      "182:\ttotal: 8m 36s\tremaining: 47.9s\n",
      "183:\ttotal: 8m 38s\tremaining: 45.1s\n",
      "184:\ttotal: 8m 40s\tremaining: 42.2s\n",
      "185:\ttest: 0.7695360\tbest: 0.7695360 (185)\ttotal: 8m 42s\tremaining: 39.3s\n",
      "186:\ttotal: 8m 44s\tremaining: 36.5s\n",
      "187:\ttotal: 8m 46s\tremaining: 33.6s\n",
      "188:\ttotal: 8m 50s\tremaining: 30.9s\n",
      "189:\ttotal: 8m 52s\tremaining: 28s\n",
      "190:\ttest: 0.7697804\tbest: 0.7697804 (190)\ttotal: 8m 54s\tremaining: 25.2s\n",
      "191:\ttotal: 8m 57s\tremaining: 22.4s\n",
      "192:\ttotal: 9m 1s\tremaining: 19.6s\n",
      "193:\ttotal: 9m 3s\tremaining: 16.8s\n",
      "194:\ttotal: 9m 5s\tremaining: 14s\n",
      "195:\ttest: 0.7700246\tbest: 0.7700246 (195)\ttotal: 9m 7s\tremaining: 11.2s\n",
      "196:\ttotal: 9m 9s\tremaining: 8.37s\n",
      "197:\ttotal: 9m 13s\tremaining: 5.59s\n",
      "198:\ttotal: 9m 16s\tremaining: 2.79s\n",
      "199:\ttest: 0.7701896\tbest: 0.7701896 (199)\ttotal: 9m 18s\tremaining: 0us\n",
      "bestTest = 0.7701895833\n",
      "bestIteration = 199\n"
     ]
    },
    {
     "data": {
      "text/plain": [
       "<catboost.core.CatBoostClassifier at 0x7f3714dbf340>"
      ]
     },
     "execution_count": 47,
     "metadata": {},
     "output_type": "execute_result"
    }
   ],
   "source": [
    "from catboost import CatBoostClassifier, Pool\n",
    "\n",
    "train_pool = Pool(X_train1, y_train1 ,cat_features = categorical_feat1)\n",
    "val_pool = Pool(X_test1, y_test1, cat_features = categorical_feat1)\n",
    "\n",
    "\n",
    "catb_params = {\n",
    "    'iterations' : 200,\n",
    "    'learning_rate': 0.05 ,\n",
    "    \"max_depth\": 10,\n",
    "    'eval_metric' :'AUC', #GPU 이용시 AUC말고 다른 매트릭으로 평가됨 \n",
    "    'task_type' : 'GPU', #device는 굳이 전달 안 해도 None이 디폴트로, 자동으로 지정된다.\n",
    "    'verbose': 1,\n",
    "    'random_seed' : 721,\n",
    "    'gpu_ram_part': 0.9 #gpu의 80%만 사용하라. default = 0.95 (95%)\n",
    "    #'used_ram_limit': '20gb' #cpu가 20gb만 이용하도록 함\n",
    "    }\n",
    "\n",
    "catb = CatBoostClassifier(**catb_params)\n",
    "catb.fit(train_pool, eval_set=val_pool, verbose=True)\n",
    "\n",
    "# 예측 확률 계산\n",
    "#y_pred = catb.predict_proba(X_test1)[:,1]\n",
    "\n",
    "# ROC AUC 평가\n",
    "#score = roc_auc_score(y_test1, y_pred)\n",
    "#print(score)"
   ]
  },
  {
   "cell_type": "code",
   "execution_count": 24,
   "metadata": {},
   "outputs": [],
   "source": [
    "import joblib\n",
    "\n",
    "# 모델 저장 경로\n",
    "model_path = \"/home/sgh/yes/envs/DACON/models/\"\n",
    "\n",
    "# 경로가 존재하지 않으면 생성\n",
    "os.makedirs(model_path, exist_ok=True)\n",
    "\n",
    "# 모델 저장\n",
    "catb.save_model(os.path.join(model_path, \"click_ratio_catb(vanilla).pth\"))"
   ]
  },
  {
   "cell_type": "code",
   "execution_count": 48,
   "metadata": {},
   "outputs": [
    {
     "name": "stdout",
     "output_type": "stream",
     "text": [
      "Index(['F02', 'F04', 'F06', 'F07', 'F08', 'F09', 'F10', 'F11', 'F12', 'F13',\n",
      "       'F14', 'F16', 'F17', 'F18', 'F19', 'F21', 'F22', 'F23', 'F24', 'F25',\n",
      "       'F28', 'F30', 'F31', 'F32', 'F33', 'F34', 'F35', 'F36', 'F37', 'F38',\n",
      "       'F39'],\n",
      "      dtype='object')\n",
      "Index(['F02', 'F04', 'F06', 'F07', 'F08', 'F09', 'F10', 'F11', 'F12', 'F13',\n",
      "       'F14', 'F16', 'F17', 'F18', 'F19', 'F21', 'F22', 'F23', 'F24', 'F25',\n",
      "       'F28', 'F30', 'F31', 'F32', 'F33', 'F34', 'F35', 'F36', 'F37', 'F38',\n",
      "       'F39'],\n",
      "      dtype='object')\n"
     ]
    }
   ],
   "source": [
    "print(X_test.columns)\n",
    "print(X_train1.columns)"
   ]
  },
  {
   "cell_type": "code",
   "execution_count": 43,
   "metadata": {},
   "outputs": [],
   "source": [
    "#sample_submission = sample_submission.to_pandas()\n",
    "\n",
    "y_submission_pred2 = catb.predict_proba(X_test)[:,1]\n",
    "\n",
    "sample_submission['Click'] = y_submission_pred2\n",
    "submission = sample_submission.copy()\n",
    "\n",
    "submission.to_csv('/home/sgh/yes/envs/DACON/click_ratio(catb2).csv',index=False)"
   ]
  }
 ],
 "metadata": {
  "kernelspec": {
   "display_name": "DACON",
   "language": "python",
   "name": "python3"
  },
  "language_info": {
   "codemirror_mode": {
    "name": "ipython",
    "version": 3
   },
   "file_extension": ".py",
   "mimetype": "text/x-python",
   "name": "python",
   "nbconvert_exporter": "python",
   "pygments_lexer": "ipython3",
   "version": "3.10.13"
  }
 },
 "nbformat": 4,
 "nbformat_minor": 2
}
