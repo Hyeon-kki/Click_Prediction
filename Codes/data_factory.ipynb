{
 "cells": [
  {
   "cell_type": "code",
   "execution_count": 1,
   "metadata": {},
   "outputs": [],
   "source": [
    "import os\n",
    "import psutil\n",
    "import numpy as np\n",
    "import pandas as pd\n",
    "import polars as pl\n",
    "import warnings\n",
    "warnings.filterwarnings(\"ignore\")\n",
    "\n",
    "from utils import *"
   ]
  },
  {
   "cell_type": "code",
   "execution_count": 2,
   "metadata": {},
   "outputs": [],
   "source": [
    "# data경로 확보\n",
    "full_path  = os.getcwd()\n",
    "upper_path = os.path.dirname(full_path)\n",
    "data_path  = os.path.join(upper_path, 'Data')\n",
    "\n",
    "# csv파일 경로 확보\n",
    "train_path  = os.path.join(data_path, 'train.csv')\n",
    "test_path   = os.path.join(data_path, 'test.csv')\n",
    "sample_path = os.path.join(data_path, 'sample_submission.csv')"
   ]
  },
  {
   "cell_type": "code",
   "execution_count": 3,
   "metadata": {},
   "outputs": [],
   "source": [
    "# 데이터 읽기(polaris)\n",
    "train  = pl.read_csv(train_path)\n",
    "test   = pl.read_csv(test_path)\n",
    "sample_submission = pl.read_csv(sample_path)"
   ]
  },
  {
   "cell_type": "code",
   "execution_count": 4,
   "metadata": {},
   "outputs": [
    {
     "data": {
      "text/html": [
       "<div><style>\n",
       ".dataframe > thead > tr,\n",
       ".dataframe > tbody > tr {\n",
       "  text-align: right;\n",
       "  white-space: pre-wrap;\n",
       "}\n",
       "</style>\n",
       "<small>shape: (28_605_391, 41)</small><table border=\"1\" class=\"dataframe\"><thead><tr><th>ID</th><th>Click</th><th>F01</th><th>F02</th><th>F03</th><th>F04</th><th>F05</th><th>F06</th><th>F07</th><th>F08</th><th>F09</th><th>F10</th><th>F11</th><th>F12</th><th>F13</th><th>F14</th><th>F15</th><th>F16</th><th>F17</th><th>F18</th><th>F19</th><th>F20</th><th>F21</th><th>F22</th><th>F23</th><th>F24</th><th>F25</th><th>F26</th><th>F27</th><th>F28</th><th>F29</th><th>F30</th><th>F31</th><th>F32</th><th>F33</th><th>F34</th><th>F35</th><th>F36</th><th>F37</th><th>F38</th><th>F39</th></tr><tr><td>str</td><td>i64</td><td>str</td><td>str</td><td>str</td><td>f64</td><td>str</td><td>i64</td><td>str</td><td>str</td><td>str</td><td>str</td><td>f64</td><td>str</td><td>str</td><td>i64</td><td>str</td><td>str</td><td>str</td><td>f64</td><td>f64</td><td>str</td><td>str</td><td>str</td><td>str</td><td>f64</td><td>str</td><td>str</td><td>f64</td><td>str</td><td>f64</td><td>str</td><td>str</td><td>f64</td><td>f64</td><td>str</td><td>str</td><td>f64</td><td>str</td><td>f64</td><td>str</td></tr></thead><tbody><tr><td>&quot;TRAIN_00000000…</td><td>1</td><td>&quot;NSLHFNS&quot;</td><td>&quot;AVKQTCL&quot;</td><td>&quot;DTZFPRW&quot;</td><td>114.0</td><td>&quot;ISVXFVA&quot;</td><td>1</td><td>&quot;PQZBVMG&quot;</td><td>&quot;LPYPUNA&quot;</td><td>&quot;IZYJZDA&quot;</td><td>&quot;RANQNXO&quot;</td><td>66.0</td><td>&quot;EGWPZEB&quot;</td><td>&quot;SMRBWMU&quot;</td><td>4</td><td>&quot;NGMRRQG&quot;</td><td>&quot;NLHSWSR&quot;</td><td>&quot;SXZLOWA&quot;</td><td>null</td><td>1.0</td><td>&quot;LTCDFSX&quot;</td><td>&quot;SWAZXZY&quot;</td><td>&quot;SNDDHSM&quot;</td><td>&quot;IDHAIQQ&quot;</td><td>5.0</td><td>&quot;HLADEES&quot;</td><td>&quot;XAUNDQW&quot;</td><td>3.0</td><td>&quot;MAVCFCM&quot;</td><td>1.0</td><td>&quot;NZGEZLW&quot;</td><td>&quot;GTISJWW&quot;</td><td>380.0</td><td>2.0</td><td>&quot;AXQFZWC&quot;</td><td>&quot;IRUDRFB&quot;</td><td>null</td><td>&quot;TFJMLCZ&quot;</td><td>0.0</td><td>&quot;AURZYDY&quot;</td></tr><tr><td>&quot;TRAIN_00000001…</td><td>0</td><td>&quot;VGIVWZQ&quot;</td><td>&quot;LSUSMVO&quot;</td><td>&quot;PQGWFJZ&quot;</td><td>26.0</td><td>&quot;NFRVLWS&quot;</td><td>43</td><td>&quot;IMPIGJT&quot;</td><td>&quot;MIGYEEG&quot;</td><td>&quot;NGODWIN&quot;</td><td>&quot;GBQMJYF&quot;</td><td>137.0</td><td>&quot;OUPRLWN&quot;</td><td>&quot;QVLCQTS&quot;</td><td>22</td><td>&quot;ZHOLRQX&quot;</td><td>&quot;DGLEHCI&quot;</td><td>&quot;ZSBOVQM&quot;</td><td>19.0</td><td>1.0</td><td>&quot;QAOROGG&quot;</td><td>&quot;BUUUKVW&quot;</td><td>&quot;SNDDHSM&quot;</td><td>&quot;IDHAIQQ&quot;</td><td>21.0</td><td>&quot;TPNEYOY&quot;</td><td>&quot;BUWDIBR&quot;</td><td>32.0</td><td>&quot;IYZTLFQ&quot;</td><td>2.0</td><td>&quot;NZGEZLW&quot;</td><td>&quot;GTISJWW&quot;</td><td>466.0</td><td>1.0</td><td>&quot;DRVVDHZ&quot;</td><td>&quot;IRUDRFB&quot;</td><td>19.0</td><td>&quot;AUGTURV&quot;</td><td>0.0</td><td>&quot;LUZRMLU&quot;</td></tr><tr><td>&quot;TRAIN_00000002…</td><td>0</td><td>&quot;JCDXFYU&quot;</td><td>&quot;PILDDJU&quot;</td><td>&quot;IAGJDOH&quot;</td><td>119.0</td><td>&quot;LFPUEOV&quot;</td><td>0</td><td>&quot;FFUTIRZ&quot;</td><td>&quot;OFKQGTY&quot;</td><td>&quot;BEZTQIO&quot;</td><td>&quot;YLKUVQA&quot;</td><td>null</td><td>&quot;MGRUYII&quot;</td><td>&quot;KGJACUM&quot;</td><td>0</td><td>&quot;ZNLREKK&quot;</td><td>&quot;PBCDAMR&quot;</td><td>&quot;TEHYADQ&quot;</td><td>2.0</td><td>0.0</td><td>&quot;TGVLSYT&quot;</td><td>&quot;FUZMWEL&quot;</td><td>&quot;SNDDHSM&quot;</td><td>&quot;ZXHXBZQ&quot;</td><td>null</td><td>&quot;YMGUAHK&quot;</td><td>&quot;WVRHGBC&quot;</td><td>null</td><td>&quot;VNBXRYV&quot;</td><td>null</td><td>&quot;VHXETCF&quot;</td><td>&quot;KHZNEZF&quot;</td><td>197.0</td><td>0.0</td><td>&quot;QMOULXS&quot;</td><td>&quot;IRUDRFB&quot;</td><td>8.0</td><td>&quot;ZVSTLNM&quot;</td><td>0.0</td><td>&quot;MHBRSQK&quot;</td></tr><tr><td>&quot;TRAIN_00000003…</td><td>1</td><td>&quot;PSMFWTP&quot;</td><td>&quot;ZYAVJHP&quot;</td><td>null</td><td>15.0</td><td>&quot;ATQPZSJ&quot;</td><td>26</td><td>&quot;ZDTZNSB&quot;</td><td>&quot;THBWWCD&quot;</td><td>&quot;LTETYBG&quot;</td><td>&quot;GEKHGQZ&quot;</td><td>50.0</td><td>&quot;OPGPVBH&quot;</td><td>&quot;UMIEGWH&quot;</td><td>20</td><td>null</td><td>&quot;WDTKLCQ&quot;</td><td>&quot;SXZLOWA&quot;</td><td>14.0</td><td>0.0</td><td>null</td><td>&quot;BJAYVHN&quot;</td><td>&quot;SNDDHSM&quot;</td><td>&quot;VTYMMMX&quot;</td><td>87.0</td><td>&quot;IROGIOW&quot;</td><td>null</td><td>2.0</td><td>&quot;YQCIJMD&quot;</td><td>1.0</td><td>&quot;IVIRTPR&quot;</td><td>&quot;GTISJWW&quot;</td><td>8640.0</td><td>0.0</td><td>&quot;IZLJUJS&quot;</td><td>&quot;IRUDRFB&quot;</td><td>14.0</td><td>&quot;ZBSRLCQ&quot;</td><td>0.0</td><td>&quot;GAZBSSZ&quot;</td></tr><tr><td>&quot;TRAIN_00000004…</td><td>0</td><td>&quot;SLCRICD&quot;</td><td>&quot;QPQWGXA&quot;</td><td>null</td><td>13.0</td><td>&quot;CHZGJZR&quot;</td><td>20</td><td>&quot;PQZBVMG&quot;</td><td>&quot;MIGYEEG&quot;</td><td>&quot;LJBQPJW&quot;</td><td>&quot;SOKLCDW&quot;</td><td>789.0</td><td>&quot;LHVQODU&quot;</td><td>&quot;YJFFIGH&quot;</td><td>42</td><td>null</td><td>&quot;NRRIGTN&quot;</td><td>&quot;TEHYADQ&quot;</td><td>13.0</td><td>0.0</td><td>null</td><td>&quot;LBABTIR&quot;</td><td>&quot;NXBZHKD&quot;</td><td>&quot;IZDGSXJ&quot;</td><td>null</td><td>&quot;PWGXQTB&quot;</td><td>null</td><td>null</td><td>&quot;IYZTLFQ&quot;</td><td>null</td><td>&quot;NZGEZLW&quot;</td><td>&quot;WHSRKIM&quot;</td><td>41774.0</td><td>0.0</td><td>&quot;BHBIZCL&quot;</td><td>&quot;IRUDRFB&quot;</td><td>13.0</td><td>&quot;QHYLSBX&quot;</td><td>0.0</td><td>&quot;QTATWAY&quot;</td></tr><tr><td>&hellip;</td><td>&hellip;</td><td>&hellip;</td><td>&hellip;</td><td>&hellip;</td><td>&hellip;</td><td>&hellip;</td><td>&hellip;</td><td>&hellip;</td><td>&hellip;</td><td>&hellip;</td><td>&hellip;</td><td>&hellip;</td><td>&hellip;</td><td>&hellip;</td><td>&hellip;</td><td>&hellip;</td><td>&hellip;</td><td>&hellip;</td><td>&hellip;</td><td>&hellip;</td><td>&hellip;</td><td>&hellip;</td><td>&hellip;</td><td>&hellip;</td><td>&hellip;</td><td>&hellip;</td><td>&hellip;</td><td>&hellip;</td><td>&hellip;</td><td>&hellip;</td><td>&hellip;</td><td>&hellip;</td><td>&hellip;</td><td>&hellip;</td><td>&hellip;</td><td>&hellip;</td><td>&hellip;</td><td>&hellip;</td><td>&hellip;</td><td>&hellip;</td></tr><tr><td>&quot;TRAIN_28605386…</td><td>0</td><td>&quot;NLVEHEJ&quot;</td><td>&quot;TQLUNHQ&quot;</td><td>&quot;DTZFPRW&quot;</td><td>7.0</td><td>&quot;TSAHWRE&quot;</td><td>1</td><td>&quot;RLRNZDM&quot;</td><td>&quot;SODVHOK&quot;</td><td>&quot;IZYJZDA&quot;</td><td>&quot;ZPMODDZ&quot;</td><td>213.0</td><td>&quot;VRGCGWA&quot;</td><td>&quot;SMRBWMU&quot;</td><td>12</td><td>&quot;NGMRRQG&quot;</td><td>&quot;FBGVORR&quot;</td><td>&quot;FMJARXS&quot;</td><td>6.0</td><td>2.0</td><td>&quot;OYRTDCM&quot;</td><td>&quot;SWAZXZY&quot;</td><td>&quot;SNDDHSM&quot;</td><td>&quot;IDHAIQQ&quot;</td><td>6.0</td><td>&quot;ELRLVHO&quot;</td><td>&quot;HJHEDHR&quot;</td><td>62.0</td><td>&quot;RSJLBWR&quot;</td><td>5.0</td><td>&quot;TANUHHL&quot;</td><td>&quot;GTISJWW&quot;</td><td>43.0</td><td>3.0</td><td>&quot;PNSISZF&quot;</td><td>&quot;IRUDRFB&quot;</td><td>6.0</td><td>&quot;TFJMLCZ&quot;</td><td>0.0</td><td>&quot;ZBOTIHF&quot;</td></tr><tr><td>&quot;TRAIN_28605387…</td><td>0</td><td>&quot;GGCUFPH&quot;</td><td>&quot;JLGELTR&quot;</td><td>&quot;IAGJDOH&quot;</td><td>null</td><td>&quot;MZOKJAS&quot;</td><td>26</td><td>&quot;GIHHVOP&quot;</td><td>&quot;IGQGIJM&quot;</td><td>&quot;KLFHAUF&quot;</td><td>&quot;HBFALWV&quot;</td><td>47.0</td><td>&quot;LFZZAOB&quot;</td><td>&quot;BFVIKOK&quot;</td><td>7</td><td>&quot;NGMRRQG&quot;</td><td>&quot;XVTICSY&quot;</td><td>&quot;ORHLUGM&quot;</td><td>null</td><td>0.0</td><td>&quot;JLITBKP&quot;</td><td>&quot;YBGYGNW&quot;</td><td>&quot;SNDDHSM&quot;</td><td>&quot;IDHAIQQ&quot;</td><td>null</td><td>&quot;OZQAFLN&quot;</td><td>&quot;WVRHGBC&quot;</td><td>12.0</td><td>&quot;RSJLBWR&quot;</td><td>3.0</td><td>&quot;FGOVFJM&quot;</td><td>&quot;GTISJWW&quot;</td><td>4341.0</td><td>0.0</td><td>&quot;AJHSFUP&quot;</td><td>&quot;IRUDRFB&quot;</td><td>null</td><td>&quot;BBDNLVH&quot;</td><td>0.0</td><td>&quot;LXTGFRC&quot;</td></tr><tr><td>&quot;TRAIN_28605388…</td><td>0</td><td>&quot;SNXDPNU&quot;</td><td>&quot;VTPZTHN&quot;</td><td>&quot;KFOPSGX&quot;</td><td>92.0</td><td>&quot;ZTAHYDS&quot;</td><td>3</td><td>&quot;JXOLWIU&quot;</td><td>&quot;CZDUWVM&quot;</td><td>&quot;QBSGNGN&quot;</td><td>&quot;EWFXKQY&quot;</td><td>null</td><td>&quot;IYCTPAY&quot;</td><td>&quot;FGQOGSD&quot;</td><td>21</td><td>&quot;ZHOLRQX&quot;</td><td>&quot;EDMHVZZ&quot;</td><td>&quot;SXZLOWA&quot;</td><td>20.0</td><td>1.0</td><td>&quot;UDVKJTH&quot;</td><td>&quot;SWAZXZY&quot;</td><td>&quot;UHZOZZL&quot;</td><td>&quot;IDHAIQQ&quot;</td><td>59.0</td><td>&quot;QIWQMAW&quot;</td><td>&quot;YYQVFBZ&quot;</td><td>null</td><td>&quot;YYEFTXW&quot;</td><td>null</td><td>&quot;SLXYBBG&quot;</td><td>&quot;WCPHYPZ&quot;</td><td>25.0</td><td>2.0</td><td>&quot;XIPYLHN&quot;</td><td>&quot;IRUDRFB&quot;</td><td>20.0</td><td>&quot;OOQBJMI&quot;</td><td>0.0</td><td>&quot;XIWMBGB&quot;</td></tr><tr><td>&quot;TRAIN_28605389…</td><td>1</td><td>&quot;RTCZYBD&quot;</td><td>&quot;FHCKUNS&quot;</td><td>&quot;HUUWYSX&quot;</td><td>91.0</td><td>&quot;EBCXZZE&quot;</td><td>0</td><td>&quot;UZJFCLM&quot;</td><td>&quot;FTPHMPQ&quot;</td><td>&quot;GJISCZS&quot;</td><td>&quot;RVGDHCT&quot;</td><td>796.0</td><td>&quot;MTLLGEG&quot;</td><td>&quot;ZXLVSJX&quot;</td><td>6</td><td>&quot;ZNLREKK&quot;</td><td>&quot;KSGQPGQ&quot;</td><td>&quot;SXZLOWA&quot;</td><td>4.0</td><td>0.0</td><td>&quot;SLFPQQL&quot;</td><td>&quot;LBABTIR&quot;</td><td>&quot;KXPMETM&quot;</td><td>&quot;IDHAIQQ&quot;</td><td>null</td><td>&quot;VAJLQBS&quot;</td><td>&quot;SDJKHCS&quot;</td><td>null</td><td>&quot;YYEFTXW&quot;</td><td>null</td><td>&quot;YIXFVTW&quot;</td><td>&quot;GTISJWW&quot;</td><td>1753.0</td><td>0.0</td><td>&quot;KRVDSGK&quot;</td><td>&quot;IRUDRFB&quot;</td><td>6.0</td><td>&quot;KTCQCEU&quot;</td><td>0.0</td><td>&quot;OYLBHKU&quot;</td></tr><tr><td>&quot;TRAIN_28605390…</td><td>1</td><td>null</td><td>null</td><td>&quot;IAGJDOH&quot;</td><td>null</td><td>null</td><td>-1</td><td>&quot;PQZBVMG&quot;</td><td>&quot;FTPHMPQ&quot;</td><td>&quot;NXMSJMX&quot;</td><td>null</td><td>1.0</td><td>null</td><td>&quot;FPGFCQE&quot;</td><td>0</td><td>&quot;NGMRRQG&quot;</td><td>&quot;QJPGLCC&quot;</td><td>&quot;QABXFTY&quot;</td><td>null</td><td>null</td><td>&quot;VTTITYH&quot;</td><td>&quot;BUUUKVW&quot;</td><td>&quot;SNDDHSM&quot;</td><td>&quot;VTYMMMX&quot;</td><td>null</td><td>&quot;KTIIAEK&quot;</td><td>&quot;YYQVFBZ&quot;</td><td>null</td><td>&quot;QJTGLTY&quot;</td><td>null</td><td>&quot;SLXYBBG&quot;</td><td>&quot;GTISJWW&quot;</td><td>33878.0</td><td>null</td><td>null</td><td>&quot;MNBSNJV&quot;</td><td>null</td><td>&quot;HDRJSGN&quot;</td><td>0.0</td><td>&quot;JJZPKGE&quot;</td></tr></tbody></table></div>"
      ],
      "text/plain": [
       "shape: (28_605_391, 41)\n",
       "┌────────────────┬───────┬─────────┬─────────┬───┬──────┬─────────┬─────┬─────────┐\n",
       "│ ID             ┆ Click ┆ F01     ┆ F02     ┆ … ┆ F36  ┆ F37     ┆ F38 ┆ F39     │\n",
       "│ ---            ┆ ---   ┆ ---     ┆ ---     ┆   ┆ ---  ┆ ---     ┆ --- ┆ ---     │\n",
       "│ str            ┆ i64   ┆ str     ┆ str     ┆   ┆ f64  ┆ str     ┆ f64 ┆ str     │\n",
       "╞════════════════╪═══════╪═════════╪═════════╪═══╪══════╪═════════╪═════╪═════════╡\n",
       "│ TRAIN_00000000 ┆ 1     ┆ NSLHFNS ┆ AVKQTCL ┆ … ┆ null ┆ TFJMLCZ ┆ 0.0 ┆ AURZYDY │\n",
       "│ TRAIN_00000001 ┆ 0     ┆ VGIVWZQ ┆ LSUSMVO ┆ … ┆ 19.0 ┆ AUGTURV ┆ 0.0 ┆ LUZRMLU │\n",
       "│ TRAIN_00000002 ┆ 0     ┆ JCDXFYU ┆ PILDDJU ┆ … ┆ 8.0  ┆ ZVSTLNM ┆ 0.0 ┆ MHBRSQK │\n",
       "│ TRAIN_00000003 ┆ 1     ┆ PSMFWTP ┆ ZYAVJHP ┆ … ┆ 14.0 ┆ ZBSRLCQ ┆ 0.0 ┆ GAZBSSZ │\n",
       "│ TRAIN_00000004 ┆ 0     ┆ SLCRICD ┆ QPQWGXA ┆ … ┆ 13.0 ┆ QHYLSBX ┆ 0.0 ┆ QTATWAY │\n",
       "│ …              ┆ …     ┆ …       ┆ …       ┆ … ┆ …    ┆ …       ┆ …   ┆ …       │\n",
       "│ TRAIN_28605386 ┆ 0     ┆ NLVEHEJ ┆ TQLUNHQ ┆ … ┆ 6.0  ┆ TFJMLCZ ┆ 0.0 ┆ ZBOTIHF │\n",
       "│ TRAIN_28605387 ┆ 0     ┆ GGCUFPH ┆ JLGELTR ┆ … ┆ null ┆ BBDNLVH ┆ 0.0 ┆ LXTGFRC │\n",
       "│ TRAIN_28605388 ┆ 0     ┆ SNXDPNU ┆ VTPZTHN ┆ … ┆ 20.0 ┆ OOQBJMI ┆ 0.0 ┆ XIWMBGB │\n",
       "│ TRAIN_28605389 ┆ 1     ┆ RTCZYBD ┆ FHCKUNS ┆ … ┆ 6.0  ┆ KTCQCEU ┆ 0.0 ┆ OYLBHKU │\n",
       "│ TRAIN_28605390 ┆ 1     ┆ null    ┆ null    ┆ … ┆ null ┆ HDRJSGN ┆ 0.0 ┆ JJZPKGE │\n",
       "└────────────────┴───────┴─────────┴─────────┴───┴──────┴─────────┴─────┴─────────┘"
      ]
     },
     "execution_count": 4,
     "metadata": {},
     "output_type": "execute_result"
    }
   ],
   "source": [
    "train"
   ]
  },
  {
   "cell_type": "code",
   "execution_count": 36,
   "metadata": {},
   "outputs": [],
   "source": [
    "target = \"Click\""
   ]
  },
  {
   "cell_type": "code",
   "execution_count": 53,
   "metadata": {},
   "outputs": [
    {
     "name": "stdout",
     "output_type": "stream",
     "text": [
      "shape: (28_605_391, 41)\n",
      "┌────────────────┬───────┬─────────┬─────────┬───┬──────┬─────────┬─────┬─────────┐\n",
      "│ ID             ┆ Click ┆ F01     ┆ F02     ┆ … ┆ F36  ┆ F37     ┆ F38 ┆ F39     │\n",
      "│ ---            ┆ ---   ┆ ---     ┆ ---     ┆   ┆ ---  ┆ ---     ┆ --- ┆ ---     │\n",
      "│ str            ┆ i64   ┆ str     ┆ str     ┆   ┆ f64  ┆ str     ┆ f64 ┆ str     │\n",
      "╞════════════════╪═══════╪═════════╪═════════╪═══╪══════╪═════════╪═════╪═════════╡\n",
      "│ TRAIN_00000000 ┆ 1     ┆ NSLHFNS ┆ AVKQTCL ┆ … ┆ null ┆ TFJMLCZ ┆ 0.0 ┆ AURZYDY │\n",
      "│ TRAIN_00000001 ┆ 0     ┆ VGIVWZQ ┆ LSUSMVO ┆ … ┆ 19.0 ┆ AUGTURV ┆ 0.0 ┆ LUZRMLU │\n",
      "│ TRAIN_00000002 ┆ 0     ┆ JCDXFYU ┆ PILDDJU ┆ … ┆ 8.0  ┆ ZVSTLNM ┆ 0.0 ┆ MHBRSQK │\n",
      "│ TRAIN_00000003 ┆ 1     ┆ PSMFWTP ┆ ZYAVJHP ┆ … ┆ 14.0 ┆ ZBSRLCQ ┆ 0.0 ┆ GAZBSSZ │\n",
      "│ TRAIN_00000004 ┆ 0     ┆ SLCRICD ┆ QPQWGXA ┆ … ┆ 13.0 ┆ QHYLSBX ┆ 0.0 ┆ QTATWAY │\n",
      "│ …              ┆ …     ┆ …       ┆ …       ┆ … ┆ …    ┆ …       ┆ …   ┆ …       │\n",
      "│ TRAIN_28605386 ┆ 0     ┆ NLVEHEJ ┆ TQLUNHQ ┆ … ┆ 6.0  ┆ TFJMLCZ ┆ 0.0 ┆ ZBOTIHF │\n",
      "│ TRAIN_28605387 ┆ 0     ┆ GGCUFPH ┆ JLGELTR ┆ … ┆ null ┆ BBDNLVH ┆ 0.0 ┆ LXTGFRC │\n",
      "│ TRAIN_28605388 ┆ 0     ┆ SNXDPNU ┆ VTPZTHN ┆ … ┆ 20.0 ┆ OOQBJMI ┆ 0.0 ┆ XIWMBGB │\n",
      "│ TRAIN_28605389 ┆ 1     ┆ RTCZYBD ┆ FHCKUNS ┆ … ┆ 6.0  ┆ KTCQCEU ┆ 0.0 ┆ OYLBHKU │\n",
      "│ TRAIN_28605390 ┆ 1     ┆ null    ┆ null    ┆ … ┆ null ┆ HDRJSGN ┆ 0.0 ┆ JJZPKGE │\n",
      "└────────────────┴───────┴─────────┴─────────┴───┴──────┴─────────┴─────┴─────────┘\n",
      "ID: 0.00% missing\n",
      "Click: 0.00% missing\n",
      "F01: 4.32% missing\n",
      "F02: 4.32% missing\n",
      "F03: 36.86% missing\n",
      "F04: 20.07% missing\n",
      "F05: 4.32% missing\n",
      "F06: 0.00% missing\n",
      "F07: 0.00% missing\n",
      "F08: 0.00% missing\n",
      "F09: 0.00% missing\n",
      "F10: 4.32% missing\n",
      "F11: 10.33% missing\n",
      "F12: 4.32% missing\n",
      "F13: 0.00% missing\n",
      "F14: 0.00% missing\n",
      "F15: 36.86% missing\n",
      "F16: 0.00% missing\n",
      "F17: 0.00% missing\n",
      "F18: 25.61% missing\n",
      "F19: 9.05% missing\n",
      "F20: 36.86% missing\n",
      "F21: 0.00% missing\n",
      "F22: 0.00% missing\n",
      "F23: 0.00% missing\n",
      "F24: 31.44% missing\n",
      "F25: 0.00% missing\n",
      "F26: 36.86% missing\n",
      "F27: 38.68% missing\n",
      "F28: 0.00% missing\n",
      "F29: 38.68% missing\n",
      "F30: 0.00% missing\n",
      "F31: 0.00% missing\n",
      "F32: 0.88% missing\n",
      "F33: 9.05% missing\n",
      "F34: 4.32% missing\n",
      "F35: 0.00% missing\n",
      "F36: 25.61% missing\n",
      "F37: 0.00% missing\n",
      "F38: 2.80% missing\n",
      "F39: 0.00% missing\n",
      "_____________\n",
      "shape: (4_538_541, 40)\n",
      "┌──────────────┬─────────┬─────────┬─────────┬───┬──────┬─────────┬──────┬─────────┐\n",
      "│ ID           ┆ F01     ┆ F02     ┆ F03     ┆ … ┆ F36  ┆ F37     ┆ F38  ┆ F39     │\n",
      "│ ---          ┆ ---     ┆ ---     ┆ ---     ┆   ┆ ---  ┆ ---     ┆ ---  ┆ ---     │\n",
      "│ str          ┆ str     ┆ str     ┆ str     ┆   ┆ f64  ┆ str     ┆ f64  ┆ str     │\n",
      "╞══════════════╪═════════╪═════════╪═════════╪═══╪══════╪═════════╪══════╪═════════╡\n",
      "│ TEST_0000000 ┆ null    ┆ null    ┆ IAGJDOH ┆ … ┆ null ┆ VINCJKA ┆ 0.0  ┆ AWWBMDJ │\n",
      "│ TEST_0000001 ┆ SDVLQID ┆ VDDLZCR ┆ DTZFPRW ┆ … ┆ null ┆ KSGNDBR ┆ 0.0  ┆ OJTGSWO │\n",
      "│ TEST_0000002 ┆ XXQINZY ┆ AXQDKZD ┆ IAGJDOH ┆ … ┆ null ┆ VINCJKA ┆ 0.0  ┆ INBFMRT │\n",
      "│ TEST_0000003 ┆ JCDXFYU ┆ PILDDJU ┆ IAGJDOH ┆ … ┆ 8.0  ┆ RWQBLLR ┆ 0.0  ┆ OYSGPBR │\n",
      "│ TEST_0000004 ┆ DZPQPXK ┆ HKSCOJF ┆ null    ┆ … ┆ 0.0  ┆ XJLBFMB ┆ 1.0  ┆ OYSGPBR │\n",
      "│ …            ┆ …       ┆ …       ┆ …       ┆ … ┆ …    ┆ …       ┆ …    ┆ …       │\n",
      "│ TEST_4538536 ┆ HXMHUGD ┆ TPUSZQU ┆ KVMAIVS ┆ … ┆ null ┆ FFPNBWG ┆ 0.0  ┆ BMSFIQK │\n",
      "│ TEST_4538537 ┆ EFGUTAG ┆ GUSHKRP ┆ DTZFPRW ┆ … ┆ null ┆ WAIUOTK ┆ null ┆ VDXHTFG │\n",
      "│ TEST_4538538 ┆ GYLFJDQ ┆ ZMBKXJC ┆ IAGJDOH ┆ … ┆ null ┆ OZXTENF ┆ 0.0  ┆ RVCHAPT │\n",
      "│ TEST_4538539 ┆ YITFONK ┆ BXRXQUP ┆ PCCSJYL ┆ … ┆ null ┆ IMTFAOW ┆ 0.0  ┆ TVCMTFA │\n",
      "│ TEST_4538540 ┆ null    ┆ null    ┆ DTZFPRW ┆ … ┆ null ┆ HCVVVQD ┆ 0.0  ┆ RSJOBLE │\n",
      "└──────────────┴─────────┴─────────┴─────────┴───┴──────┴─────────┴──────┴─────────┘\n",
      "ID: 0.00% missing\n",
      "F01: 4.23% missing\n",
      "F02: 4.23% missing\n",
      "F03: 35.40% missing\n",
      "F04: 20.05% missing\n",
      "F05: 4.23% missing\n",
      "F06: 0.00% missing\n",
      "F07: 0.00% missing\n",
      "F08: 0.00% missing\n",
      "F09: 0.00% missing\n",
      "F10: 4.23% missing\n",
      "F11: 10.50% missing\n",
      "F12: 4.23% missing\n",
      "F13: 0.00% missing\n",
      "F14: 0.00% missing\n",
      "F15: 35.40% missing\n",
      "F16: 0.00% missing\n",
      "F17: 0.00% missing\n",
      "F18: 26.12% missing\n",
      "F19: 11.06% missing\n",
      "F20: 35.40% missing\n",
      "F21: 0.00% missing\n",
      "F22: 0.00% missing\n",
      "F23: 0.00% missing\n",
      "F24: 31.96% missing\n",
      "F25: 0.00% missing\n",
      "F26: 35.40% missing\n",
      "F27: 38.16% missing\n",
      "F28: 0.00% missing\n",
      "F29: 38.16% missing\n",
      "F30: 0.00% missing\n",
      "F31: 0.00% missing\n",
      "F32: 1.14% missing\n",
      "F33: 11.06% missing\n",
      "F34: 4.23% missing\n",
      "F35: 0.00% missing\n",
      "F36: 26.12% missing\n",
      "F37: 0.00% missing\n",
      "F38: 2.98% missing\n",
      "F39: 0.00% missing\n",
      "_____________\n"
     ]
    }
   ],
   "source": [
    "dfs = [train,test]\n",
    "# 각 열을 순회하며 결측치의 비율 계산\n",
    "for df in dfs:\n",
    "    print(df)\n",
    "    for col in df.columns:\n",
    "        # 결측치 비율 계산\n",
    "        missing_percentage = df[col].is_null().mean()\n",
    "        print(f\"{col}: {missing_percentage*100:.2f}% missing\")\n",
    "    print('_____________')"
   ]
  },
  {
   "cell_type": "code",
   "execution_count": 5,
   "metadata": {},
   "outputs": [],
   "source": [
    "def filter_cols(df): #결측치가 70%이상 되는 피처들 제외\n",
    "    for col in df.columns:\n",
    "        if col not in [\"Click\", \"ID\"]:\n",
    "            isnull = df[col].is_null().mean()\n",
    "            if isnull > 0.35:\n",
    "                df = df.drop(col)\n",
    "    return df "
   ]
  },
  {
   "cell_type": "code",
   "execution_count": 6,
   "metadata": {},
   "outputs": [],
   "source": [
    "train1 = filter_cols(train)\n",
    "test1 = filter_cols(test)"
   ]
  },
  {
   "cell_type": "code",
   "execution_count": 7,
   "metadata": {},
   "outputs": [
    {
     "name": "stdout",
     "output_type": "stream",
     "text": [
      "['ID', 'Click', 'F01', 'F02', 'F04', 'F05', 'F06', 'F07', 'F08', 'F09', 'F10', 'F11', 'F12', 'F13', 'F14', 'F16', 'F17', 'F18', 'F19', 'F21', 'F22', 'F23', 'F24', 'F25', 'F28', 'F30', 'F31', 'F32', 'F33', 'F34', 'F35', 'F36', 'F37', 'F38', 'F39']\n",
      "['ID', 'F01', 'F02', 'F04', 'F05', 'F06', 'F07', 'F08', 'F09', 'F10', 'F11', 'F12', 'F13', 'F14', 'F16', 'F17', 'F18', 'F19', 'F21', 'F22', 'F23', 'F24', 'F25', 'F28', 'F30', 'F31', 'F32', 'F33', 'F34', 'F35', 'F36', 'F37', 'F38', 'F39']\n"
     ]
    }
   ],
   "source": [
    "print(train1.columns)\n",
    "print(test1.columns)"
   ]
  },
  {
   "cell_type": "code",
   "execution_count": null,
   "metadata": {},
   "outputs": [
    {
     "ename": "",
     "evalue": "",
     "output_type": "error",
     "traceback": [
      "\u001b[1;31mThe Kernel crashed while executing code in the current cell or a previous cell. \n",
      "\u001b[1;31mPlease review the code in the cell(s) to identify a possible cause of the failure. \n",
      "\u001b[1;31mClick <a href='https://aka.ms/vscodeJupyterKernelCrash'>here</a> for more info. \n",
      "\u001b[1;31mView Jupyter <a href='command:jupyter.viewOutput'>log</a> for further details."
     ]
    }
   ],
   "source": [
    "train1  = train1.to_pandas()\n",
    "test1 = test1.to_pandas()"
   ]
  },
  {
   "cell_type": "code",
   "execution_count": null,
   "metadata": {},
   "outputs": [],
   "source": [
    "train1.to_csv('/home/sgh/yes/envs/DACON/(3rd)Click_Ratio/Data/train1', index=False)\n",
    "test1.to_csv('/home/sgh/yes/envs/DACON/(3rd)Click_Ratio/Data/test1', index=False)"
   ]
  },
  {
   "cell_type": "code",
   "execution_count": null,
   "metadata": {},
   "outputs": [],
   "source": []
  }
 ],
 "metadata": {
  "kernelspec": {
   "display_name": "DACON",
   "language": "python",
   "name": "python3"
  },
  "language_info": {
   "codemirror_mode": {
    "name": "ipython",
    "version": 3
   },
   "file_extension": ".py",
   "mimetype": "text/x-python",
   "name": "python",
   "nbconvert_exporter": "python",
   "pygments_lexer": "ipython3",
   "version": "3.10.13"
  }
 },
 "nbformat": 4,
 "nbformat_minor": 2
}
